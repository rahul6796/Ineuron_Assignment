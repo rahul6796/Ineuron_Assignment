{
 "cells": [
  {
   "cell_type": "markdown",
   "id": "db4f9f88",
   "metadata": {},
   "source": [
    "# Answer:"
   ]
  },
  {
   "cell_type": "markdown",
   "id": "18386b48",
   "metadata": {},
   "source": [
    "1 - expression or:\n",
    " - *, -, /, +"
   ]
  },
  {
   "cell_type": "markdown",
   "id": "3a651095",
   "metadata": {},
   "source": [
    "1 - values or:\n",
    "  - 'hello', -87.7, 6"
   ]
  },
  {
   "cell_type": "markdown",
   "id": "ecf0f8c1",
   "metadata": {},
   "source": [
    " 2 - $Variable$ - it can store an information.\n",
    "  - $string$ - type of information which we can store into a variable"
   ]
  },
  {
   "cell_type": "markdown",
   "id": "0301ad95",
   "metadata": {},
   "source": [
    "3 -  $List$, $Tuple$, $Dictionary$."
   ]
  },
  {
   "cell_type": "markdown",
   "id": "7049b4c0",
   "metadata": {},
   "source": [
    "4 - An expression is a combination of operators and operands. \n",
    "  -  that is interpreted to produce some other value."
   ]
  },
  {
   "cell_type": "markdown",
   "id": "2f93256a",
   "metadata": {},
   "source": [
    "5 - Statements represent an action or command e.g print statements, assignment statements. Expression is a combination of variables, operations and values that yields a result value."
   ]
  },
  {
   "cell_type": "markdown",
   "id": "f1b2f84a",
   "metadata": {},
   "source": [
    "$6$ - Answer"
   ]
  },
  {
   "cell_type": "code",
   "execution_count": 11,
   "id": "a5352c57",
   "metadata": {},
   "outputs": [],
   "source": [
    "bacon = 22"
   ]
  },
  {
   "cell_type": "code",
   "execution_count": 12,
   "id": "092e8381",
   "metadata": {},
   "outputs": [
    {
     "data": {
      "text/plain": [
       "23"
      ]
     },
     "execution_count": 12,
     "metadata": {},
     "output_type": "execute_result"
    }
   ],
   "source": [
    "bacon+1"
   ]
  },
  {
   "cell_type": "markdown",
   "id": "da34b353",
   "metadata": {},
   "source": [
    "$7$ -  Answer"
   ]
  },
  {
   "cell_type": "code",
   "execution_count": 13,
   "id": "9618a7c5",
   "metadata": {},
   "outputs": [
    {
     "data": {
      "text/plain": [
       "'spamspamspam'"
      ]
     },
     "execution_count": 13,
     "metadata": {},
     "output_type": "execute_result"
    }
   ],
   "source": [
    "'spam' + 'spamspam'"
   ]
  },
  {
   "cell_type": "code",
   "execution_count": 14,
   "id": "9aaed77a",
   "metadata": {},
   "outputs": [
    {
     "data": {
      "text/plain": [
       "'spamspamspam'"
      ]
     },
     "execution_count": 14,
     "metadata": {},
     "output_type": "execute_result"
    }
   ],
   "source": [
    "'spam' * 3"
   ]
  },
  {
   "cell_type": "markdown",
   "id": "b0156a04",
   "metadata": {},
   "source": [
    "8 - Answer"
   ]
  },
  {
   "cell_type": "markdown",
   "id": "350b3b4b",
   "metadata": {},
   "source": [
    "We can not assigne valriable as any integer value we can assigne only sring."
   ]
  },
  {
   "cell_type": "markdown",
   "id": "432c06ef",
   "metadata": {},
   "source": [
    "ex - "
   ]
  },
  {
   "cell_type": "code",
   "execution_count": 21,
   "id": "26bf7e4e",
   "metadata": {},
   "outputs": [
    {
     "ename": "SyntaxError",
     "evalue": "cannot assign to literal (260838114.py, line 1)",
     "output_type": "error",
     "traceback": [
      "\u001b[0;36m  Input \u001b[0;32mIn [21]\u001b[0;36m\u001b[0m\n\u001b[0;31m    10 = 10\u001b[0m\n\u001b[0m    ^\u001b[0m\n\u001b[0;31mSyntaxError\u001b[0m\u001b[0;31m:\u001b[0m cannot assign to literal\n"
     ]
    }
   ],
   "source": [
    "10 = 10"
   ]
  },
  {
   "cell_type": "code",
   "execution_count": 18,
   "id": "5b3b14fc",
   "metadata": {},
   "outputs": [],
   "source": [
    "ten = 10"
   ]
  },
  {
   "cell_type": "markdown",
   "id": "1faf4038",
   "metadata": {},
   "source": [
    "$9$ - Answer"
   ]
  },
  {
   "cell_type": "markdown",
   "id": "2d8ad8f4",
   "metadata": {},
   "source": [
    "- int(), float(), str()"
   ]
  },
  {
   "cell_type": "markdown",
   "id": "e2bec973",
   "metadata": {},
   "source": [
    "$10$ - Answer"
   ]
  },
  {
   "cell_type": "code",
   "execution_count": 22,
   "id": "c72aa1a7",
   "metadata": {},
   "outputs": [
    {
     "ename": "TypeError",
     "evalue": "can only concatenate str (not \"int\") to str",
     "output_type": "error",
     "traceback": [
      "\u001b[0;31m---------------------------------------------------------------------------\u001b[0m",
      "\u001b[0;31mTypeError\u001b[0m                                 Traceback (most recent call last)",
      "Input \u001b[0;32mIn [22]\u001b[0m, in \u001b[0;36m<cell line: 1>\u001b[0;34m()\u001b[0m\n\u001b[0;32m----> 1\u001b[0m \u001b[38;5;124;43m'\u001b[39;49m\u001b[38;5;124;43mI have eaten\u001b[39;49m\u001b[38;5;124;43m'\u001b[39;49m\u001b[43m \u001b[49m\u001b[38;5;241;43m+\u001b[39;49m\u001b[43m \u001b[49m\u001b[38;5;241;43m99\u001b[39;49m \u001b[38;5;241m+\u001b[39m \u001b[38;5;124m'\u001b[39m\u001b[38;5;124mburritos\u001b[39m\u001b[38;5;124m'\u001b[39m\n",
      "\u001b[0;31mTypeError\u001b[0m: can only concatenate str (not \"int\") to str"
     ]
    }
   ],
   "source": [
    "'I have eaten' + 99 + 'burritos'"
   ]
  },
  {
   "cell_type": "markdown",
   "id": "720207bc",
   "metadata": {},
   "source": [
    "here we try to concatenate string with int which is not possible practical."
   ]
  },
  {
   "cell_type": "code",
   "execution_count": 24,
   "id": "39ccdef5",
   "metadata": {},
   "outputs": [
    {
     "data": {
      "text/plain": [
       "'I have eaten  99  burritos'"
      ]
     },
     "execution_count": 24,
     "metadata": {},
     "output_type": "execute_result"
    }
   ],
   "source": [
    "'I have eaten ' + ' 99 ' + ' burritos'"
   ]
  },
  {
   "cell_type": "markdown",
   "id": "6455db6c",
   "metadata": {},
   "source": [
    "first we convert int to str then it will work."
   ]
  },
  {
   "cell_type": "code",
   "execution_count": null,
   "id": "4f718be8",
   "metadata": {},
   "outputs": [],
   "source": []
  }
 ],
 "metadata": {
  "kernelspec": {
   "display_name": "Python 3 (ipykernel)",
   "language": "python",
   "name": "python3"
  },
  "language_info": {
   "codemirror_mode": {
    "name": "ipython",
    "version": 3
   },
   "file_extension": ".py",
   "mimetype": "text/x-python",
   "name": "python",
   "nbconvert_exporter": "python",
   "pygments_lexer": "ipython3",
   "version": "3.9.7"
  }
 },
 "nbformat": 4,
 "nbformat_minor": 5
}
