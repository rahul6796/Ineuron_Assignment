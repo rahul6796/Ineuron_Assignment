{
 "cells": [
  {
   "cell_type": "markdown",
   "id": "bdc506b7",
   "metadata": {},
   "source": [
    "1 - Answer"
   ]
  },
  {
   "cell_type": "markdown",
   "id": "c5558d3a",
   "metadata": {},
   "source": [
    "- True\n",
    "- False"
   ]
  },
  {
   "cell_type": "markdown",
   "id": "6556f029",
   "metadata": {},
   "source": [
    "2 -  Answer"
   ]
  },
  {
   "cell_type": "markdown",
   "id": "d8658f9d",
   "metadata": {},
   "source": [
    "- or\n",
    "- and\n",
    "- not"
   ]
  },
  {
   "cell_type": "markdown",
   "id": "bd234f4f",
   "metadata": {},
   "source": [
    "3 -  Answer"
   ]
  },
  {
   "cell_type": "markdown",
   "id": "6c666671",
   "metadata": {},
   "source": [
    "- or truth Table"
   ]
  },
  {
   "cell_type": "markdown",
   "id": "d1cb519f",
   "metadata": {},
   "source": [
    "x1 | x2 | x1 or x2\n",
    "- 1  0     1\n",
    "- 0  1     1\n",
    "- 0  0     0\n",
    "- 1  1     1\n"
   ]
  },
  {
   "cell_type": "markdown",
   "id": "dd3e6ee7",
   "metadata": {},
   "source": [
    "- and Truth Table"
   ]
  },
  {
   "cell_type": "markdown",
   "id": "bc7a96fb",
   "metadata": {},
   "source": [
    "x1 | x2 | x1 and x2\n",
    "- 0  0   0 \n",
    "- 1  1   1\n",
    "- 0  1   0\n",
    "- 1  0   0"
   ]
  },
  {
   "cell_type": "markdown",
   "id": "0bd8197a",
   "metadata": {},
   "source": [
    "- not truth Table"
   ]
  },
  {
   "cell_type": "markdown",
   "id": "edee4538",
   "metadata": {},
   "source": [
    "x1 | not x1\n",
    "- 1  0\n",
    "- 0  1"
   ]
  },
  {
   "cell_type": "markdown",
   "id": "ffddde0c",
   "metadata": {},
   "source": [
    "5 -  Answer"
   ]
  },
  {
   "cell_type": "code",
   "execution_count": 9,
   "id": "7b91ef56",
   "metadata": {},
   "outputs": [
    {
     "data": {
      "text/plain": [
       "False"
      ]
     },
     "execution_count": 9,
     "metadata": {},
     "output_type": "execute_result"
    }
   ],
   "source": [
    "(5 > 4) and (3 == 5) "
   ]
  },
  {
   "cell_type": "code",
   "execution_count": 11,
   "id": "1c5db5af",
   "metadata": {},
   "outputs": [
    {
     "data": {
      "text/plain": [
       "False"
      ]
     },
     "execution_count": 11,
     "metadata": {},
     "output_type": "execute_result"
    }
   ],
   "source": [
    "not (5 > 4)"
   ]
  },
  {
   "cell_type": "code",
   "execution_count": 12,
   "id": "4262c862",
   "metadata": {},
   "outputs": [
    {
     "data": {
      "text/plain": [
       "True"
      ]
     },
     "execution_count": 12,
     "metadata": {},
     "output_type": "execute_result"
    }
   ],
   "source": [
    "(5 > 4) or (3 == 5)"
   ]
  },
  {
   "cell_type": "code",
   "execution_count": 13,
   "id": "f345cc96",
   "metadata": {},
   "outputs": [
    {
     "data": {
      "text/plain": [
       "False"
      ]
     },
     "execution_count": 13,
     "metadata": {},
     "output_type": "execute_result"
    }
   ],
   "source": [
    "not ((5 >4) or (3 == 5))"
   ]
  },
  {
   "cell_type": "code",
   "execution_count": 14,
   "id": "22965764",
   "metadata": {},
   "outputs": [
    {
     "data": {
      "text/plain": [
       "False"
      ]
     },
     "execution_count": 14,
     "metadata": {},
     "output_type": "execute_result"
    }
   ],
   "source": [
    "(True and True) and (True == False)"
   ]
  },
  {
   "cell_type": "code",
   "execution_count": 15,
   "id": "37a347ca",
   "metadata": {},
   "outputs": [
    {
     "data": {
      "text/plain": [
       "True"
      ]
     },
     "execution_count": 15,
     "metadata": {},
     "output_type": "execute_result"
    }
   ],
   "source": [
    "(not False) or (not True)"
   ]
  },
  {
   "cell_type": "markdown",
   "id": "e9353acc",
   "metadata": {},
   "source": [
    "6 - Answer"
   ]
  },
  {
   "cell_type": "markdown",
   "id": "fb2fb65e",
   "metadata": {},
   "source": [
    "1.  > (greter) \n",
    "2.  < (smaller)\n",
    "3.  == (equalto)\n",
    "4.  >= (greter than equalto)\n",
    "5.  <= (less than equalto)\n",
    "6.  != (not equalto)"
   ]
  },
  {
   "cell_type": "markdown",
   "id": "d11e96a1",
   "metadata": {},
   "source": [
    "7 - Answer"
   ]
  },
  {
   "cell_type": "code",
   "execution_count": 18,
   "id": "ea2cd35b",
   "metadata": {},
   "outputs": [
    {
     "name": "stdout",
     "output_type": "stream",
     "text": [
      "ham\n",
      "spam\n",
      "spam\n"
     ]
    }
   ],
   "source": [
    "spam = 0\n",
    "if spam == 10:  # First Block\n",
    "    print('eggs')\n",
    "if spam > 5:  # Second Block\n",
    "    print('bacon')\n",
    "else:           # Third Block\n",
    "    print('ham')\n",
    "    print('spam')\n",
    "    print('spam')"
   ]
  },
  {
   "cell_type": "code",
   "execution_count": 49,
   "id": "db61e8d0",
   "metadata": {},
   "outputs": [
    {
     "name": "stdout",
     "output_type": "stream",
     "text": [
      "Greetings!\n"
     ]
    }
   ],
   "source": [
    "spam = 3\n",
    "if spam  == 1:\n",
    "    print(\"Hello\")\n",
    "if spam == 2:\n",
    "    print(\"Howdy\")\n",
    "else:\n",
    "    print('Greetings!')"
   ]
  },
  {
   "cell_type": "markdown",
   "id": "f9b1d438",
   "metadata": {},
   "source": [
    "9 -  Answer"
   ]
  },
  {
   "cell_type": "markdown",
   "id": "bf42d823",
   "metadata": {},
   "source": [
    "ctrl + c"
   ]
  },
  {
   "cell_type": "markdown",
   "id": "dd5e067c",
   "metadata": {},
   "source": [
    "10 -  Answer"
   ]
  },
  {
   "cell_type": "markdown",
   "id": "c8e44689",
   "metadata": {},
   "source": [
    "- break \n",
    " this terminates the whole program"
   ]
  },
  {
   "cell_type": "markdown",
   "id": "da492ffd",
   "metadata": {},
   "source": [
    "- example below"
   ]
  },
  {
   "cell_type": "code",
   "execution_count": 53,
   "id": "b92e4ed5",
   "metadata": {},
   "outputs": [
    {
     "name": "stdout",
     "output_type": "stream",
     "text": [
      "0\n",
      "1\n",
      "2\n"
     ]
    }
   ],
   "source": [
    "x = 2\n",
    "for i in range(10):\n",
    "    print(i)\n",
    "    if i == x:\n",
    "        break"
   ]
  },
  {
   "cell_type": "markdown",
   "id": "643fb35a",
   "metadata": {},
   "source": [
    "- continue \n",
    "- this continue the execution after meet the some condition"
   ]
  },
  {
   "cell_type": "markdown",
   "id": "ada76b6a",
   "metadata": {},
   "source": [
    "- example"
   ]
  },
  {
   "cell_type": "code",
   "execution_count": 54,
   "id": "15d6bcc0",
   "metadata": {},
   "outputs": [
    {
     "name": "stdout",
     "output_type": "stream",
     "text": [
      "6\n",
      "7\n",
      "8\n",
      "9\n",
      "10\n",
      "11\n"
     ]
    }
   ],
   "source": [
    "x = 5 \n",
    "for i in range(6, 12):\n",
    "    print(i)\n",
    "    if i == x:\n",
    "        continue"
   ]
  },
  {
   "cell_type": "markdown",
   "id": "a8ea1770",
   "metadata": {},
   "source": [
    "11 - Answer"
   ]
  },
  {
   "cell_type": "markdown",
   "id": "94eb1c26",
   "metadata": {},
   "source": [
    "- range(10) in this range(10) by default consider start = 0 and end = 9 and step size = 1 "
   ]
  },
  {
   "cell_type": "markdown",
   "id": "0c30aa48",
   "metadata": {},
   "source": [
    "- range(0, 10) in this range(0, 10) start = 0 and end = 9 because 20 is exclusive and step size = 1 by default"
   ]
  },
  {
   "cell_type": "markdown",
   "id": "340bedd5",
   "metadata": {},
   "source": [
    "- range(0, 10, 1) in this range() function start = 0, end = 9 and step size  = 1"
   ]
  },
  {
   "cell_type": "markdown",
   "id": "bdf84272",
   "metadata": {},
   "source": [
    "12 - Answer"
   ]
  },
  {
   "cell_type": "code",
   "execution_count": 56,
   "id": "cacecfeb",
   "metadata": {},
   "outputs": [
    {
     "name": "stdout",
     "output_type": "stream",
     "text": [
      "0\n",
      "1\n",
      "2\n",
      "3\n",
      "4\n",
      "5\n",
      "6\n",
      "7\n",
      "8\n",
      "9\n",
      "10\n"
     ]
    }
   ],
   "source": [
    "for i in range(11):\n",
    "    print(i)"
   ]
  },
  {
   "cell_type": "code",
   "execution_count": 57,
   "id": "24e161a0",
   "metadata": {},
   "outputs": [
    {
     "name": "stdout",
     "output_type": "stream",
     "text": [
      "0\n",
      "1\n",
      "2\n",
      "3\n",
      "4\n",
      "5\n",
      "6\n",
      "7\n",
      "8\n",
      "9\n",
      "10\n"
     ]
    }
   ],
   "source": [
    "i = 0\n",
    "while i <= 10:\n",
    "    print(i)\n",
    "    i += 1"
   ]
  },
  {
   "cell_type": "markdown",
   "id": "501ccf55",
   "metadata": {},
   "source": [
    "13 - Answer"
   ]
  },
  {
   "cell_type": "markdown",
   "id": "d2fe749a",
   "metadata": {},
   "source": [
    "i will call that function by using .(dot) on particular module spam."
   ]
  },
  {
   "cell_type": "code",
   "execution_count": null,
   "id": "2fea5924",
   "metadata": {},
   "outputs": [],
   "source": []
  }
 ],
 "metadata": {
  "kernelspec": {
   "display_name": "Python 3 (ipykernel)",
   "language": "python",
   "name": "python3"
  },
  "language_info": {
   "codemirror_mode": {
    "name": "ipython",
    "version": 3
   },
   "file_extension": ".py",
   "mimetype": "text/x-python",
   "name": "python",
   "nbconvert_exporter": "python",
   "pygments_lexer": "ipython3",
   "version": "3.9.7"
  }
 },
 "nbformat": 4,
 "nbformat_minor": 5
}
