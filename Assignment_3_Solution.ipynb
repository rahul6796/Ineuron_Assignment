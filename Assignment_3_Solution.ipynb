{
 "cells": [
  {
   "cell_type": "markdown",
   "id": "51bfdf94",
   "metadata": {},
   "source": [
    "1 - Answer"
   ]
  },
  {
   "cell_type": "markdown",
   "id": "3d4cf2a9",
   "metadata": {},
   "source": [
    "- Because of reusability in our programs.\n",
    "- Write one and use any where \n",
    "- its also provide modularity"
   ]
  },
  {
   "cell_type": "markdown",
   "id": "1d57f176",
   "metadata": {},
   "source": [
    "2 - Answer"
   ]
  },
  {
   "cell_type": "markdown",
   "id": "50392920",
   "metadata": {},
   "source": [
    "- code of the function run when its call\n",
    "- not specified"
   ]
  },
  {
   "cell_type": "markdown",
   "id": "66ada7d3",
   "metadata": {},
   "source": [
    "3 - Answer"
   ]
  },
  {
   "cell_type": "markdown",
   "id": "838de9f6",
   "metadata": {},
   "source": [
    "- I have to define name of the function.\n",
    "- I have to define parameters of the function.\n",
    "- I have to define return statement, when our function return somthing.\n",
    "- function name should not be any python keywords.\n",
    "- ex\n",
    " - def RahulPrajapati():\n",
    "        pass\n",
    "        return None"
   ]
  },
  {
   "cell_type": "markdown",
   "id": "4b740062",
   "metadata": {},
   "source": [
    "4 -  Answer"
   ]
  },
  {
   "cell_type": "markdown",
   "id": "607b97f8",
   "metadata": {},
   "source": [
    "- Function\n",
    "- we right some statement inside the function base on our requrement.\n",
    "- and also metion some operation based on requirement.\n",
    "\n",
    "- Function Call\n",
    "- Whenever function call that execute inside the statement for performing some task."
   ]
  },
  {
   "cell_type": "markdown",
   "id": "26294041",
   "metadata": {},
   "source": [
    "5 - Answer"
   ]
  },
  {
   "cell_type": "markdown",
   "id": "c9fdaa5c",
   "metadata": {},
   "source": [
    "- There's only one global Python scope per program execution"
   ]
  },
  {
   "cell_type": "markdown",
   "id": "85832296",
   "metadata": {},
   "source": [
    "- There's only one local Python scope per program execution. "
   ]
  },
  {
   "cell_type": "markdown",
   "id": "8a88c8a2",
   "metadata": {},
   "source": [
    "6 - Answer"
   ]
  },
  {
   "cell_type": "markdown",
   "id": "5157ce6d",
   "metadata": {},
   "source": [
    "- When the execution of the function terminates (returns), the local variables are destroyed. Codelens helps you visualize this because the local variables disappear after the function returns."
   ]
  },
  {
   "cell_type": "markdown",
   "id": "69f68f22",
   "metadata": {},
   "source": [
    "7- Answer"
   ]
  },
  {
   "cell_type": "markdown",
   "id": "80db1c68",
   "metadata": {},
   "source": [
    "- A return statement is used to end the execution of the function call and “returns” the result (value of the expression following the return keyword) to the caller. The statements after the return statements are not executed. If the return statement is without any expression, then the special value None is returned."
   ]
  },
  {
   "cell_type": "markdown",
   "id": "26f6563f",
   "metadata": {},
   "source": [
    "8 - Answer"
   ]
  },
  {
   "cell_type": "markdown",
   "id": "627d9da7",
   "metadata": {},
   "source": [
    "- If no return statement appears in a function definition, control automatically returns to the calling function after the last statement of the called function is executed. In this case, the return value of the called function is undefined."
   ]
  },
  {
   "cell_type": "markdown",
   "id": "65d892d2",
   "metadata": {},
   "source": [
    "9  - Answer"
   ]
  },
  {
   "cell_type": "markdown",
   "id": "d88320b9",
   "metadata": {},
   "source": [
    "- If you want to refer to a global variable in a function, you can use the global keyword to declare which variables are global."
   ]
  },
  {
   "cell_type": "markdown",
   "id": "cdd23d38",
   "metadata": {},
   "source": [
    "10 - Answer"
   ]
  },
  {
   "cell_type": "markdown",
   "id": "f542e047",
   "metadata": {},
   "source": [
    "- The None keyword is used to define a null value, or no value at all. None is not the same as 0, False, or an empty string. "
   ]
  },
  {
   "cell_type": "markdown",
   "id": "b9f31bfc",
   "metadata": {},
   "source": [
    "11 - Answer"
   ]
  },
  {
   "cell_type": "markdown",
   "id": "cbca6ca3",
   "metadata": {},
   "source": [
    "-  That import statement imports a module named areallyourpetsnamederic"
   ]
  },
  {
   "cell_type": "markdown",
   "id": "3c20fb6c",
   "metadata": {},
   "source": [
    "12 - Answer"
   ]
  },
  {
   "cell_type": "markdown",
   "id": "4c1c0746",
   "metadata": {},
   "source": [
    "- by using .(dot) for calling that function from that given module"
   ]
  },
  {
   "cell_type": "markdown",
   "id": "fea24730",
   "metadata": {},
   "source": [
    "13 - Answer"
   ]
  },
  {
   "cell_type": "markdown",
   "id": "c1113b97",
   "metadata": {},
   "source": [
    "- I have to used logging and exception handling"
   ]
  },
  {
   "cell_type": "markdown",
   "id": "4c554464",
   "metadata": {},
   "source": [
    "14 - Answer"
   ]
  },
  {
   "cell_type": "markdown",
   "id": "eec9603c",
   "metadata": {},
   "source": [
    "- try"
   ]
  },
  {
   "cell_type": "markdown",
   "id": "64b2e7af",
   "metadata": {},
   "source": [
    "- whatever logic to excuete from the code is add to try block\n",
    "- ex sum1 = a + b"
   ]
  },
  {
   "cell_type": "markdown",
   "id": "d1fc31ee",
   "metadata": {},
   "source": [
    "- except"
   ]
  },
  {
   "cell_type": "markdown",
   "id": "44f4beed",
   "metadata": {},
   "source": [
    "- whatever error throw from the try block we add to the except block to showing which kind of error raise from  the try block"
   ]
  },
  {
   "cell_type": "code",
   "execution_count": null,
   "id": "d1288952",
   "metadata": {},
   "outputs": [],
   "source": []
  }
 ],
 "metadata": {
  "kernelspec": {
   "display_name": "Python 3 (ipykernel)",
   "language": "python",
   "name": "python3"
  },
  "language_info": {
   "codemirror_mode": {
    "name": "ipython",
    "version": 3
   },
   "file_extension": ".py",
   "mimetype": "text/x-python",
   "name": "python",
   "nbconvert_exporter": "python",
   "pygments_lexer": "ipython3",
   "version": "3.9.7"
  }
 },
 "nbformat": 4,
 "nbformat_minor": 5
}
